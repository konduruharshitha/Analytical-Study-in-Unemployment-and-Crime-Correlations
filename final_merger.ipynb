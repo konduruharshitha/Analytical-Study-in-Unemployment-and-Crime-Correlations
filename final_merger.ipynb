{
 "cells": [
  {
   "cell_type": "markdown",
   "metadata": {},
   "source": [
    "This notebook is used to merge the cleaned data from crime and unemployment datasets. "
   ]
  },
  {
   "cell_type": "code",
   "execution_count": 5,
   "metadata": {},
   "outputs": [],
   "source": [
    "import pandas as pd\n",
    "import os\n",
    "\n",
    "def read_and_prepare_data(year, labor_folder, crime_folder):\n",
    "    labor_file = os.path.join(labor_folder, f'labor_{year}.csv')\n",
    "    if year in [2011, 2016]:\n",
    "        crime_file = os.path.join(crime_folder, f'crime_{year}.xlsx')\n",
    "        crime_df = pd.read_excel(crime_file)\n",
    "    else:\n",
    "        crime_file = os.path.join(crime_folder, f'crime_{year}.csv')\n",
    "        crime_df = pd.read_csv(crime_file)\n",
    "\n",
    "    labor_df = pd.read_csv(labor_file)\n",
    "    if 'Year' not in labor_df.columns or labor_df['Year'].isna().any():\n",
    "        labor_df['Year'] = year\n",
    "    labor_df = labor_df.drop(columns=['Unnamed: 0'], errors='ignore')\n",
    "    \n",
    "    return labor_df, crime_df\n",
    "\n",
    "def merge_datasets(start_year, end_year, labor_folder, crime_folder):\n",
    "    all_data = []\n",
    "\n",
    "    for year in range(start_year, end_year + 1):\n",
    "        if year == 2006:\n",
    "            continue\n",
    "\n",
    "        labor_df, crime_df = read_and_prepare_data(year, labor_folder, crime_folder)\n",
    "\n",
    "        merged_df = pd.merge(labor_df, crime_df, on=['State', 'Year'], how='inner')\n",
    "        all_data.append(merged_df)\n",
    "\n",
    "    final_df = pd.concat(all_data, ignore_index=True)\n",
    "    return final_df\n",
    "\n",
    "\n",
    "labor_folder = '/Users/bhargavsrisainama/Documents/personal/CU Boulder Data Science/STAT/Project/Cleaned/Final Cleaned/Labor'\n",
    "crime_folder = '/Users/bhargavsrisainama/Documents/personal/CU Boulder Data Science/STAT/Project/Cleaned/Final Cleaned/Crime'\n",
    "merged_data = merge_datasets(2000, 2019, labor_folder, crime_folder)\n",
    "\n",
    "merged_data.to_csv('/Users/bhargavsrisainama/Documents/personal/CU Boulder Data Science/STAT/Project/Cleaned/Final Cleaned/merged_labor_crime_2000_2019.csv', index=False)"
   ]
  }
 ],
 "metadata": {
  "kernelspec": {
   "display_name": "base",
   "language": "python",
   "name": "python3"
  },
  "language_info": {
   "codemirror_mode": {
    "name": "ipython",
    "version": 3
   },
   "file_extension": ".py",
   "mimetype": "text/x-python",
   "name": "python",
   "nbconvert_exporter": "python",
   "pygments_lexer": "ipython3",
   "version": "3.11.4"
  },
  "orig_nbformat": 4
 },
 "nbformat": 4,
 "nbformat_minor": 2
}
