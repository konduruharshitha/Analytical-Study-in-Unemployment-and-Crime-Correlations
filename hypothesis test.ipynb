{
 "cells": [
  {
   "cell_type": "markdown",
   "metadata": {},
   "source": [
    "In this notebook we can see the code and the results of our hypotheses."
   ]
  },
  {
   "cell_type": "code",
   "execution_count": 1,
   "metadata": {},
   "outputs": [],
   "source": [
    "#Importing required libraries\n",
    "import pandas as pd\n",
    "from scipy.stats import ttest_ind\n",
    "import statsmodels.api as sm"
   ]
  },
  {
   "cell_type": "markdown",
   "metadata": {},
   "source": [
    "1st Hypothesis: \n",
    "\n",
    "There is no significant difference\n",
    "in the mean overall crime rates between the two groups divided based on the median\n",
    "unemployment rate."
   ]
  },
  {
   "cell_type": "code",
   "execution_count": 4,
   "metadata": {},
   "outputs": [
    {
     "name": "stdout",
     "output_type": "stream",
     "text": [
      "T-Statistic: -3.844266490072181\n",
      "P-Value: 0.00013461834116320771\n",
      "Reject the null hypothesis.\n",
      "The difference in overall crime rates between the two groups is statistically significant.\n"
     ]
    }
   ],
   "source": [
    "data = pd.read_csv('/Users/bhargavsrisainama/Documents/personal/CU Boulder Data Science/STAT/Project/Cleaned/Final Cleaned/final_sampled_dataset.csv')\n",
    "median_unemployment_rate = data['Unemployment Rate'].median()\n",
    "data['Overall Crime Rate'] = data['Violent Crime'] + data['Property Crime']\n",
    "\n",
    "group1 = data[data['Unemployment Rate'] <= median_unemployment_rate]['Overall Crime Rate']\n",
    "group2 = data[data['Unemployment Rate'] > median_unemployment_rate]['Overall Crime Rate']\n",
    "\n",
    "\n",
    "# performing the t-test\n",
    "t_statistic, p_value = ttest_ind(group1, group2, equal_var=False)\n",
    "\n",
    "\n",
    "print(f'T-Statistic: {t_statistic}')\n",
    "print(f'P-Value: {p_value}')\n",
    "\n",
    "# Check if the p-value is less than the significance level (e.g., 0.05) to determine significance\n",
    "if p_value < 0.05:\n",
    "    print(\"Reject the null hypothesis.\")\n",
    "    print(\"The difference in overall crime rates between the two groups is statistically significant.\")\n",
    "else:\n",
    "    print(\"Fail to reject the null hypothesis.\")\n",
    "    print(\"There is not enough evidence to conclude a significant difference in overall crime rates between the two groups.\")\n",
    "\n"
   ]
  },
  {
   "cell_type": "markdown",
   "metadata": {},
   "source": [
    "2nd Hypothesis:\n",
    "\n",
    "For each crime type be it Robbery, Assault, or others the null hypothesis posits\n",
    "that there is no significant difference in the mean occurrence of crime types between\n",
    "different population sizes."
   ]
  },
  {
   "cell_type": "code",
   "execution_count": 17,
   "metadata": {},
   "outputs": [
    {
     "name": "stdout",
     "output_type": "stream",
     "text": [
      "\n",
      "T-test for Murder with respect to Population:\n",
      "\n",
      "T-statistic: -20.14844918781981\n",
      "P-value: 5.554197282190693e-78\n",
      "\n",
      "T-test for Rape with respect to Population:\n",
      "\n",
      "T-statistic: -20.142746852112694\n",
      "P-value: 6.05310809938561e-78\n",
      "\n",
      "T-test for Robbery with respect to Population:\n",
      "\n",
      "T-statistic: -20.125223263979745\n",
      "P-value: 7.88399850082955e-78\n",
      "\n",
      "T-test for Assault with respect to Population:\n",
      "\n",
      "T-statistic: -20.096523283428606\n",
      "P-value: 1.2150859238617258e-77\n",
      "\n",
      "T-test for Burglary with respect to Population:\n",
      "\n",
      "T-statistic: -20.025347410822523\n",
      "P-value: 3.547574415895302e-77\n",
      "\n",
      "T-test for Vehicle theft with respect to Population:\n",
      "\n",
      "T-statistic: -20.087464907523056\n",
      "P-value: 1.3927487234737469e-77\n",
      "\n",
      "T-test for Larceny with respect to Population:\n",
      "\n",
      "T-statistic: -19.740552692915333\n",
      "P-value: 2.532840954091306e-75\n"
     ]
    }
   ],
   "source": [
    "import pandas as pd\n",
    "from scipy.stats import ttest_ind\n",
    "\n",
    "\n",
    "data = pd.read_csv('/Users/bhargavsrisainama/Documents/personal/CU Boulder Data Science/STAT/Project/Cleaned/Final Cleaned/final_sampled_dataset.csv')\n",
    "violent_crimes = ['Murder', 'Rape', 'Robbery', 'Assault', 'Burglary', 'Vehicle theft', 'Larceny']\n",
    "\n",
    "for crime_type in violent_crimes:\n",
    "    crime_data = data[crime_type]\n",
    "    population_data = data['Population']\n",
    "\n",
    "    # the test statistics are then then generated with this function\n",
    "    t_stat, p_value = ttest_ind(crime_data, population_data)\n",
    "\n",
    "    print(f\"\\nT-test for {crime_type} with respect to Population:\\n\")\n",
    "    print(f\"T-statistic: {t_stat}\")\n",
    "    print(f\"P-value: {p_value}\")\n"
   ]
  },
  {
   "cell_type": "code",
   "execution_count": null,
   "metadata": {},
   "outputs": [],
   "source": []
  }
 ],
 "metadata": {
  "kernelspec": {
   "display_name": "base",
   "language": "python",
   "name": "python3"
  },
  "language_info": {
   "codemirror_mode": {
    "name": "ipython",
    "version": 3
   },
   "file_extension": ".py",
   "mimetype": "text/x-python",
   "name": "python",
   "nbconvert_exporter": "python",
   "pygments_lexer": "ipython3",
   "version": "3.11.4"
  },
  "orig_nbformat": 4
 },
 "nbformat": 4,
 "nbformat_minor": 2
}
